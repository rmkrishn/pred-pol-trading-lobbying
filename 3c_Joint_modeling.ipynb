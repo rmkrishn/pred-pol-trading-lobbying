{
 "cells": [
  {
   "cell_type": "markdown",
   "metadata": {},
   "source": [
    "## Modeling lobbying and stock trading jointly"
   ]
  },
  {
   "cell_type": "markdown",
   "metadata": {},
   "source": [
    "The goal of this notebook is to propose a number of different models that jointly consider lobbying and stock trading. We will:\n",
    "1. Fix a few baseline models, and see how they perform.\n",
    "2. Choose a number of more complicated models, and explain the hyperparameter restrictions/sharing conditions we are imposing.\n",
    "3. Model selection. In doing so, we will keep track of cross-validation error to try to minimize overfitting.\n",
    "4. Identify our best choice, evaluate its performance, and try to improve it further."
   ]
  },
  {
   "cell_type": "markdown",
   "metadata": {},
   "source": [
    "First, let's import the basics here."
   ]
  },
  {
   "cell_type": "code",
   "execution_count": 1,
   "metadata": {},
   "outputs": [],
   "source": [
    "import numpy as np\n",
    "import pandas as pd\n",
    "import datetime\n",
    "import ast\n",
    "from matplotlib import pyplot as plt\n",
    "import seaborn as sns\n",
    "sns.set_theme()\n",
    "from importlib import reload\n",
    "import torch\n",
    "\n",
    "# Silencing warnings \n",
    "import warnings\n",
    "warnings.filterwarnings(\"ignore\")"
   ]
  },
  {
   "cell_type": "code",
   "execution_count": 2,
   "metadata": {},
   "outputs": [],
   "source": [
    "import scripts.data_extraction\n",
    "reload(scripts.data_extraction)\n",
    "from scripts.data_extraction import stock_and_lobbying_totals"
   ]
  },
  {
   "cell_type": "code",
   "execution_count": 3,
   "metadata": {},
   "outputs": [],
   "source": [
    "cognates={'AGR' :  ['Agricultural Inputs', 'Farm & Heavy Construction Machinery', 'Farm Products'],\n",
    "          'AUT' :  ['Auto & Truck Dealerships', 'Auto Manufacturers', 'Auto Parts', 'Recreational Vehicles'],\n",
    "          'BEV' :  ['Beverages - Brewers', 'Beverages - Non-Alcoholic', 'Beverages - Wineries & Distilleries'], \n",
    "          'CHM' :  ['Chemicals', 'Specialty Chemicals'], \n",
    "          'DEF' :  ['Aerospace & Defense'], #Here I deviate from Paul's choice to include `AER` here as well\n",
    "          'EDU' :  ['Education & Training Services'],\n",
    "          'ENG' :  ['Solar'], #`ENG` code does not cover oil and gas, although many oil and gas companies lobby this code.\n",
    "          'FOO' :  ['Confectioners', 'Food Distribution', 'Packaged Foods'],\n",
    "          'FUE' :  ['Oil & Gas Drilling', 'Oil & Gas E&P','Oil & Gas Equipment & Services', 'Oil & Gas Integrated', 'Oil & Gas Midstream', 'Oil & Gas Refining & Marketing'],\n",
    "          'INS' :  ['Insurance - Diversified', 'Insurance - Life', 'Insurance - Property & Casualty', 'Insurance - Reinsurance', 'Insurance - Specialty', 'Insurance Brokers'],\n",
    "          'MAN' :  ['Metal Fabrication', 'Specialty Industrial Machinery', 'Steel', 'Textile Manufacturing'], #I added to this one to match choices Paul made\n",
    "          'NAT' :  ['Aluminum', 'Copper', 'Lumber & Wood Production', 'Other Industrial Metals & Mining', 'Other Precious Metals & Mining', 'Silver'],\n",
    "          'PHA' :  ['Drug Manufacturers - General', 'Drug Manufacturers - Specialty & Generic', 'Pharmaceutical Retailers'],\n",
    "          'RES' :  ['REIT - Diversified', 'REIT - Industrial', 'REIT - Mortgage', 'REIT - Office', 'REIT - Specialty', 'Real Estate - Development', 'Real Estate - Diversified', 'Real Estate Services'],\n",
    "          'RRR' :  ['Railroads'],\n",
    "          'TEC' :  ['Telecom Services'],\n",
    "          'TOB' :  ['Tobacco'],\n",
    "          'UTI' :  ['Utilities - Diversified', 'Utilities - Independent Power Producers', 'Utilities - Regulated Water', 'Utilities - Renewable'] }"
   ]
  },
  {
   "cell_type": "markdown",
   "metadata": {},
   "source": [
    "### (1) Baselines:"
   ]
  },
  {
   "cell_type": "markdown",
   "metadata": {},
   "source": [
    "Here we want to work with multivariate baselines, as univariate baselines are already discussed in previous notebooks. In particular, extremely naive baseline models (e.g. naive mean or naive drift) are not relevant - they don't allow for even the most simple levels of interaction between the time series."
   ]
  },
  {
   "cell_type": "markdown",
   "metadata": {},
   "source": [
    "#### Naive multivariate linear model with white noise"
   ]
  },
  {
   "cell_type": "markdown",
   "metadata": {},
   "source": [
    "Here's a baseline multivariate model that we would like to beat. "
   ]
  },
  {
   "cell_type": "markdown",
   "metadata": {},
   "source": [
    "### (2) Possible models, hyperparameter restrictions, and out of the box performance"
   ]
  },
  {
   "cell_type": "markdown",
   "metadata": {},
   "source": [
    "Here I'll keep all the DARTS functionality and imports we need for our first pass at modeling."
   ]
  },
  {
   "cell_type": "code",
   "execution_count": 4,
   "metadata": {},
   "outputs": [],
   "source": [
    "from darts import TimeSeries, concatenate\n",
    "from darts.utils.callbacks import TFMProgressBar\n",
    "from darts.models import (ExponentialSmoothing, # our models\n",
    "                          VARIMA,\n",
    "                          XGBModel,\n",
    "                          NBEATSModel,\n",
    "                          TFTModel)\n",
    "from darts.metrics import mape, smape, mae, msse\n",
    "from darts.dataprocessing.transformers import Scaler #DARTS has a preprocessing function like sklearn's StandardScaler\n",
    "from darts.utils.timeseries_generation import datetime_attribute_timeseries\n",
    "import logging\n",
    "\n",
    "logging.disable(logging.CRITICAL)\n",
    "\n",
    "def generate_torch_kwargs():\n",
    "    # run torch models on CPU, and disable progress bars for all model stages except training.\n",
    "    return {\n",
    "        \"pl_trainer_kwargs\": {\n",
    "            \"accelerator\": \"cpu\",\n",
    "            \"callbacks\": [TFMProgressBar(enable_train_bar_only=True)],\n",
    "        }\n",
    "    }"
   ]
  },
  {
   "cell_type": "markdown",
   "metadata": {},
   "source": [
    "We'll make a train-validation split for this first pass with out of the box models, reserving the last 6 quarters for our validation set. Later, when we tune hyperparameters, I'll make choices using cross-validation and grid-search."
   ]
  },
  {
   "cell_type": "code",
   "execution_count": 21,
   "metadata": {},
   "outputs": [],
   "source": [
    "train_index =[ 0,  1,  2,  3,  4,  5,  6,  7,  8,  9, 10, 11, 12, 13, 14, 15, 16,\n",
    "        17, 18, 19, 20, 21, 22, 23, 24, 25, 26, 27, 28, 29, 30, 31, 32, 33,\n",
    "        34, 35]\n",
    "val_index = [36, 37, 38, 39]"
   ]
  },
  {
   "cell_type": "markdown",
   "metadata": {},
   "source": [
    "Note that our data (lobbying_total and stock_gross for various sectors) is:\n",
    "- not seasonal;\n",
    "- sometimes with visible trend;\n",
    "- autoregressive (to a point)."
   ]
  },
  {
   "cell_type": "markdown",
   "metadata": {},
   "source": [
    "Finally, here is a silly function we will call to prevent us from having to rewrite the same lines of code."
   ]
  },
  {
   "cell_type": "code",
   "execution_count": 5,
   "metadata": {},
   "outputs": [],
   "source": [
    "def fit_and_pred(model, training, validation):\n",
    "    model.fit(training)\n",
    "    forecast = model.predict(len(validation))\n",
    "    return forecast"
   ]
  },
  {
   "cell_type": "markdown",
   "metadata": {},
   "source": [
    "#### Exponential smoothing/Holt Winters"
   ]
  },
  {
   "cell_type": "markdown",
   "metadata": {},
   "source": [
    "A double exponential smoothing model seems promising."
   ]
  },
  {
   "cell_type": "markdown",
   "metadata": {},
   "source": [
    "#### Vector autoregressive integrated moving average (VARIMA)"
   ]
  },
  {
   "cell_type": "markdown",
   "metadata": {},
   "source": [
    "When using a VARIMA model, we are going to fix and share some hyperparameter choices with parameters across lobbying codes.\n",
    "\n",
    "Because of this, we will assume that the $p$ and $d$ parameters of the $(p,d,q)$ (i.e. the autoregressiveness and how much differencing is done) will be shared over all sectors. We will restrict to $d\\leq 1$ based on our EDA. We will allow $q$ to vary from sector to sector, and of course will fit the model to each sector (so that the coefficients/fit will vary sector-to-sector.)\n",
    "In shorthand: we are using models of the form\n",
    "$$ \\mathrm{VARIMA}(p=const, d=const\\leq 1, q) $$"
   ]
  },
  {
   "cell_type": "markdown",
   "metadata": {},
   "source": [
    "The following is a function that runs a particular model for a given {issue code : sector} in `cognates`. It takes as input\n",
    "- an issue code, `issue_code`,, in `cognates.keys()`;\n",
    "- a model, `model` (eg. `model=VARIMA(p,d,q)`);\n",
    "- a list or string of lobbying variables, `lobb_vars` (e.g. `lobby_vars=[lobbying_expenses, lobbying_income]`), and a list of stock variables, `stocks_vars`, which default to `lobb_vars=[lobbying_total]` and `stocks_vars=[stocks_gross]`;\n",
    "\n",
    "and returns a Pandas dataframe of predictions for our model, trained over the training set, over the validation set. All data is scaled beforehand to improve model performance."
   ]
  },
  {
   "cell_type": "code",
   "execution_count": 14,
   "metadata": {},
   "outputs": [],
   "source": [
    "def predict(issue_code, model, lobb_vars=['lobbying_total'], stocks_vars=['stocks_gross']):\n",
    "    if isinstance(lobb_vars, str):\n",
    "        lobb_vars = [lobb_vars]\n",
    "    if isinstance(stocks_vars, str):\n",
    "        stocks_vars = [stocks_vars]\n",
    "    df=stock_and_lobbying_totals(issue_code, cognates[issue_code])[lobb_vars+stocks_vars]\n",
    "    totals=TimeSeries.from_dataframe(df)\n",
    "    scaler=Scaler()\n",
    "    totals_scaled =scaler.fit_transform(totals)\n",
    "    train_scaled=totals_scaled[:-6]\n",
    "    val_scaled=totals_scaled[-6:]\n",
    "    scaled_pred = fit_and_pred(model, train_scaled, val_scaled)\n",
    "    pred=scaler.inverse_transform(scaled_pred)\n",
    "    code_preds=pd.DataFrame(pred.values())\n",
    "    code_preds.index=df.index[-6:]\n",
    "    code_preds.columns=[issue_code+\"_\"+item+\"_pred\" for item in lobb_vars+stocks_vars]\n",
    "    metrics=[mape, smape, mae, msse]\n",
    "    \n",
    "    pred_error=pd.DataFrame()\n",
    "\n",
    "    return code_preds"
   ]
  },
  {
   "cell_type": "markdown",
   "metadata": {},
   "source": [
    "Here's a function that returns a dataframe of metrics measuring prediction error over the validation set. It takes as argument a dataframe of predictions, like those generated by the predict function above."
   ]
  },
  {
   "cell_type": "code",
   "execution_count": null,
   "metadata": {},
   "outputs": [],
   "source": [
    "def pred_error(df): \n",
    "    \n"
   ]
  },
  {
   "cell_type": "code",
   "execution_count": 15,
   "metadata": {},
   "outputs": [],
   "source": [
    "trend=VARIMA(trend='t')\n",
    "df=predict(issue_code='FOO', model=trend)"
   ]
  },
  {
   "cell_type": "code",
   "execution_count": 16,
   "metadata": {},
   "outputs": [
    {
     "data": {
      "text/html": [
       "<div>\n",
       "<style scoped>\n",
       "    .dataframe tbody tr th:only-of-type {\n",
       "        vertical-align: middle;\n",
       "    }\n",
       "\n",
       "    .dataframe tbody tr th {\n",
       "        vertical-align: top;\n",
       "    }\n",
       "\n",
       "    .dataframe thead th {\n",
       "        text-align: right;\n",
       "    }\n",
       "</style>\n",
       "<table border=\"1\" class=\"dataframe\">\n",
       "  <thead>\n",
       "    <tr style=\"text-align: right;\">\n",
       "      <th></th>\n",
       "      <th>FOO_lobbying_total_pred</th>\n",
       "      <th>FOO_stocks_gross_pred</th>\n",
       "    </tr>\n",
       "    <tr>\n",
       "      <th>time</th>\n",
       "      <th></th>\n",
       "      <th></th>\n",
       "    </tr>\n",
       "  </thead>\n",
       "  <tbody>\n",
       "    <tr>\n",
       "      <th>2021-07-01</th>\n",
       "      <td>3.797978e+07</td>\n",
       "      <td>525520.230708</td>\n",
       "    </tr>\n",
       "    <tr>\n",
       "      <th>2021-10-01</th>\n",
       "      <td>3.866919e+07</td>\n",
       "      <td>563101.363988</td>\n",
       "    </tr>\n",
       "    <tr>\n",
       "      <th>2022-01-01</th>\n",
       "      <td>3.921832e+07</td>\n",
       "      <td>580570.680987</td>\n",
       "    </tr>\n",
       "    <tr>\n",
       "      <th>2022-04-01</th>\n",
       "      <td>3.973413e+07</td>\n",
       "      <td>596842.347350</td>\n",
       "    </tr>\n",
       "    <tr>\n",
       "      <th>2022-07-01</th>\n",
       "      <td>4.022613e+07</td>\n",
       "      <td>613003.816040</td>\n",
       "    </tr>\n",
       "    <tr>\n",
       "      <th>2022-10-01</th>\n",
       "      <td>4.069782e+07</td>\n",
       "      <td>629122.858055</td>\n",
       "    </tr>\n",
       "  </tbody>\n",
       "</table>\n",
       "</div>"
      ],
      "text/plain": [
       "            FOO_lobbying_total_pred  FOO_stocks_gross_pred\n",
       "time                                                      \n",
       "2021-07-01             3.797978e+07          525520.230708\n",
       "2021-10-01             3.866919e+07          563101.363988\n",
       "2022-01-01             3.921832e+07          580570.680987\n",
       "2022-04-01             3.973413e+07          596842.347350\n",
       "2022-07-01             4.022613e+07          613003.816040\n",
       "2022-10-01             4.069782e+07          629122.858055"
      ]
     },
     "execution_count": 16,
     "metadata": {},
     "output_type": "execute_result"
    }
   ],
   "source": [
    "df"
   ]
  },
  {
   "cell_type": "code",
   "execution_count": 34,
   "metadata": {},
   "outputs": [],
   "source": [
    "lobb_var='lobbying_total'\n",
    "stocks_var='stocks_gross'\n",
    "\n",
    "\n",
    "\n",
    "VARIMA_preds=pd.DataFrame()\n",
    "for issue_code in cognates.keys():\n",
    "    df=stock_and_lobbying_totals(issue_code, cognates[issue_code])[[lobb_var, stocks_var]]\n",
    "    totals=TimeSeries.from_dataframe(df)\n",
    "    scaler=Scaler()\n",
    "    totals_scaled=scaler.fit_transform(totals)\n",
    "    train_scaled=totals[:-6]\n",
    "    val_scaled=totals[-6:]\n",
    "    model = VARIMA(trend='t')  #default setting for VARIMA are p=1, d=0, q=0. We try that here.\n",
    "    scaled_pred = fit_and_pred(model, train_scaled, val_scaled)\n",
    "    pred=scaler.inverse_transform(scaled_pred)\n",
    "    VARIMA_preds[issue_code+'_lobb']=[l[0] for l in pred.values()]\n",
    "    VARIMA_preds[issue_code+'_stocks']=[l[1] for l in pred.values()]\n",
    "    VARIMA_preds.index=df.index[-6:]"
   ]
  },
  {
   "cell_type": "code",
   "execution_count": 35,
   "metadata": {},
   "outputs": [
    {
     "data": {
      "text/html": [
       "<div>\n",
       "<style scoped>\n",
       "    .dataframe tbody tr th:only-of-type {\n",
       "        vertical-align: middle;\n",
       "    }\n",
       "\n",
       "    .dataframe tbody tr th {\n",
       "        vertical-align: top;\n",
       "    }\n",
       "\n",
       "    .dataframe thead th {\n",
       "        text-align: right;\n",
       "    }\n",
       "</style>\n",
       "<table border=\"1\" class=\"dataframe\">\n",
       "  <thead>\n",
       "    <tr style=\"text-align: right;\">\n",
       "      <th></th>\n",
       "      <th>AGR_lobb</th>\n",
       "      <th>AGR_stocks</th>\n",
       "      <th>AUT_lobb</th>\n",
       "      <th>AUT_stocks</th>\n",
       "      <th>BEV_lobb</th>\n",
       "      <th>BEV_stocks</th>\n",
       "      <th>CHM_lobb</th>\n",
       "      <th>CHM_stocks</th>\n",
       "      <th>DEF_lobb</th>\n",
       "      <th>DEF_stocks</th>\n",
       "      <th>...</th>\n",
       "      <th>RES_lobb</th>\n",
       "      <th>RES_stocks</th>\n",
       "      <th>RRR_lobb</th>\n",
       "      <th>RRR_stocks</th>\n",
       "      <th>TEC_lobb</th>\n",
       "      <th>TEC_stocks</th>\n",
       "      <th>TOB_lobb</th>\n",
       "      <th>TOB_stocks</th>\n",
       "      <th>UTI_lobb</th>\n",
       "      <th>UTI_stocks</th>\n",
       "    </tr>\n",
       "    <tr>\n",
       "      <th>time</th>\n",
       "      <th></th>\n",
       "      <th></th>\n",
       "      <th></th>\n",
       "      <th></th>\n",
       "      <th></th>\n",
       "      <th></th>\n",
       "      <th></th>\n",
       "      <th></th>\n",
       "      <th></th>\n",
       "      <th></th>\n",
       "      <th></th>\n",
       "      <th></th>\n",
       "      <th></th>\n",
       "      <th></th>\n",
       "      <th></th>\n",
       "      <th></th>\n",
       "      <th></th>\n",
       "      <th></th>\n",
       "      <th></th>\n",
       "      <th></th>\n",
       "      <th></th>\n",
       "    </tr>\n",
       "  </thead>\n",
       "  <tbody>\n",
       "    <tr>\n",
       "      <th>2021-07-01</th>\n",
       "      <td>3.979754e+15</td>\n",
       "      <td>4.745724e+11</td>\n",
       "      <td>1.702314e+15</td>\n",
       "      <td>2.806219e+12</td>\n",
       "      <td>1.772082e+13</td>\n",
       "      <td>5.111216e+11</td>\n",
       "      <td>2.163424e+15</td>\n",
       "      <td>7.957119e+11</td>\n",
       "      <td>1.592664e+16</td>\n",
       "      <td>7.372749e+11</td>\n",
       "      <td>...</td>\n",
       "      <td>6.354835e+14</td>\n",
       "      <td>4.500569e+11</td>\n",
       "      <td>3.270992e+14</td>\n",
       "      <td>8.325861e+10</td>\n",
       "      <td>1.457299e+16</td>\n",
       "      <td>4.278106e+12</td>\n",
       "      <td>2.524830e+14</td>\n",
       "      <td>1.776771e+11</td>\n",
       "      <td>4.914882e+14</td>\n",
       "      <td>2.971399e+10</td>\n",
       "    </tr>\n",
       "    <tr>\n",
       "      <th>2021-10-01</th>\n",
       "      <td>4.126089e+15</td>\n",
       "      <td>4.527775e+11</td>\n",
       "      <td>1.806860e+15</td>\n",
       "      <td>2.853924e+12</td>\n",
       "      <td>1.855594e+13</td>\n",
       "      <td>5.281356e+11</td>\n",
       "      <td>2.304990e+15</td>\n",
       "      <td>1.038839e+12</td>\n",
       "      <td>1.661295e+16</td>\n",
       "      <td>9.280322e+11</td>\n",
       "      <td>...</td>\n",
       "      <td>8.640361e+14</td>\n",
       "      <td>4.336577e+11</td>\n",
       "      <td>3.613993e+14</td>\n",
       "      <td>7.772951e+10</td>\n",
       "      <td>1.524917e+16</td>\n",
       "      <td>4.380986e+12</td>\n",
       "      <td>2.854341e+14</td>\n",
       "      <td>1.918980e+11</td>\n",
       "      <td>5.347352e+14</td>\n",
       "      <td>3.246989e+10</td>\n",
       "    </tr>\n",
       "    <tr>\n",
       "      <th>2022-01-01</th>\n",
       "      <td>4.275505e+15</td>\n",
       "      <td>4.723015e+11</td>\n",
       "      <td>1.907560e+15</td>\n",
       "      <td>2.919062e+12</td>\n",
       "      <td>1.940149e+13</td>\n",
       "      <td>5.443541e+11</td>\n",
       "      <td>2.408381e+15</td>\n",
       "      <td>1.172544e+12</td>\n",
       "      <td>1.730883e+16</td>\n",
       "      <td>9.248007e+11</td>\n",
       "      <td>...</td>\n",
       "      <td>1.039184e+15</td>\n",
       "      <td>4.599117e+11</td>\n",
       "      <td>4.018131e+14</td>\n",
       "      <td>7.892452e+10</td>\n",
       "      <td>1.593851e+16</td>\n",
       "      <td>4.504351e+12</td>\n",
       "      <td>3.144134e+14</td>\n",
       "      <td>2.033656e+11</td>\n",
       "      <td>5.779436e+14</td>\n",
       "      <td>3.342397e+10</td>\n",
       "    </tr>\n",
       "    <tr>\n",
       "      <th>2022-04-01</th>\n",
       "      <td>4.428370e+15</td>\n",
       "      <td>4.838822e+11</td>\n",
       "      <td>2.004158e+15</td>\n",
       "      <td>2.988459e+12</td>\n",
       "      <td>2.025785e+13</td>\n",
       "      <td>5.606196e+11</td>\n",
       "      <td>2.494383e+15</td>\n",
       "      <td>1.254348e+12</td>\n",
       "      <td>1.802054e+16</td>\n",
       "      <td>9.578099e+11</td>\n",
       "      <td>...</td>\n",
       "      <td>1.175359e+15</td>\n",
       "      <td>4.765706e+11</td>\n",
       "      <td>4.436146e+14</td>\n",
       "      <td>8.259262e+10</td>\n",
       "      <td>1.663917e+16</td>\n",
       "      <td>4.631029e+12</td>\n",
       "      <td>3.400364e+14</td>\n",
       "      <td>2.138294e+11</td>\n",
       "      <td>6.190230e+14</td>\n",
       "      <td>3.446631e+10</td>\n",
       "    </tr>\n",
       "    <tr>\n",
       "      <th>2022-07-01</th>\n",
       "      <td>4.584543e+15</td>\n",
       "      <td>4.970133e+11</td>\n",
       "      <td>2.097042e+15</td>\n",
       "      <td>3.059319e+12</td>\n",
       "      <td>2.112467e+13</td>\n",
       "      <td>5.769339e+11</td>\n",
       "      <td>2.572834e+15</td>\n",
       "      <td>1.311537e+12</td>\n",
       "      <td>1.874663e+16</td>\n",
       "      <td>9.842442e+11</td>\n",
       "      <td>...</td>\n",
       "      <td>1.283898e+15</td>\n",
       "      <td>4.931390e+11</td>\n",
       "      <td>4.850751e+14</td>\n",
       "      <td>8.711920e+10</td>\n",
       "      <td>1.735062e+16</td>\n",
       "      <td>4.758381e+12</td>\n",
       "      <td>3.629552e+14</td>\n",
       "      <td>2.235085e+11</td>\n",
       "      <td>6.583265e+14</td>\n",
       "      <td>3.549375e+10</td>\n",
       "    </tr>\n",
       "    <tr>\n",
       "      <th>2022-10-01</th>\n",
       "      <td>4.743983e+15</td>\n",
       "      <td>5.098649e+11</td>\n",
       "      <td>2.186671e+15</td>\n",
       "      <td>3.130990e+12</td>\n",
       "      <td>2.200157e+13</td>\n",
       "      <td>5.932953e+11</td>\n",
       "      <td>2.648383e+15</td>\n",
       "      <td>1.357054e+12</td>\n",
       "      <td>1.948710e+16</td>\n",
       "      <td>1.012063e+12</td>\n",
       "      <td>...</td>\n",
       "      <td>1.372707e+15</td>\n",
       "      <td>5.085037e+11</td>\n",
       "      <td>5.256032e+14</td>\n",
       "      <td>9.189495e+10</td>\n",
       "      <td>1.807255e+16</td>\n",
       "      <td>4.885998e+12</td>\n",
       "      <td>3.836976e+14</td>\n",
       "      <td>2.325565e+11</td>\n",
       "      <td>6.960461e+14</td>\n",
       "      <td>3.651310e+10</td>\n",
       "    </tr>\n",
       "  </tbody>\n",
       "</table>\n",
       "<p>6 rows × 36 columns</p>\n",
       "</div>"
      ],
      "text/plain": [
       "                AGR_lobb    AGR_stocks      AUT_lobb    AUT_stocks  \\\n",
       "time                                                                 \n",
       "2021-07-01  3.979754e+15  4.745724e+11  1.702314e+15  2.806219e+12   \n",
       "2021-10-01  4.126089e+15  4.527775e+11  1.806860e+15  2.853924e+12   \n",
       "2022-01-01  4.275505e+15  4.723015e+11  1.907560e+15  2.919062e+12   \n",
       "2022-04-01  4.428370e+15  4.838822e+11  2.004158e+15  2.988459e+12   \n",
       "2022-07-01  4.584543e+15  4.970133e+11  2.097042e+15  3.059319e+12   \n",
       "2022-10-01  4.743983e+15  5.098649e+11  2.186671e+15  3.130990e+12   \n",
       "\n",
       "                BEV_lobb    BEV_stocks      CHM_lobb    CHM_stocks  \\\n",
       "time                                                                 \n",
       "2021-07-01  1.772082e+13  5.111216e+11  2.163424e+15  7.957119e+11   \n",
       "2021-10-01  1.855594e+13  5.281356e+11  2.304990e+15  1.038839e+12   \n",
       "2022-01-01  1.940149e+13  5.443541e+11  2.408381e+15  1.172544e+12   \n",
       "2022-04-01  2.025785e+13  5.606196e+11  2.494383e+15  1.254348e+12   \n",
       "2022-07-01  2.112467e+13  5.769339e+11  2.572834e+15  1.311537e+12   \n",
       "2022-10-01  2.200157e+13  5.932953e+11  2.648383e+15  1.357054e+12   \n",
       "\n",
       "                DEF_lobb    DEF_stocks  ...      RES_lobb    RES_stocks  \\\n",
       "time                                    ...                               \n",
       "2021-07-01  1.592664e+16  7.372749e+11  ...  6.354835e+14  4.500569e+11   \n",
       "2021-10-01  1.661295e+16  9.280322e+11  ...  8.640361e+14  4.336577e+11   \n",
       "2022-01-01  1.730883e+16  9.248007e+11  ...  1.039184e+15  4.599117e+11   \n",
       "2022-04-01  1.802054e+16  9.578099e+11  ...  1.175359e+15  4.765706e+11   \n",
       "2022-07-01  1.874663e+16  9.842442e+11  ...  1.283898e+15  4.931390e+11   \n",
       "2022-10-01  1.948710e+16  1.012063e+12  ...  1.372707e+15  5.085037e+11   \n",
       "\n",
       "                RRR_lobb    RRR_stocks      TEC_lobb    TEC_stocks  \\\n",
       "time                                                                 \n",
       "2021-07-01  3.270992e+14  8.325861e+10  1.457299e+16  4.278106e+12   \n",
       "2021-10-01  3.613993e+14  7.772951e+10  1.524917e+16  4.380986e+12   \n",
       "2022-01-01  4.018131e+14  7.892452e+10  1.593851e+16  4.504351e+12   \n",
       "2022-04-01  4.436146e+14  8.259262e+10  1.663917e+16  4.631029e+12   \n",
       "2022-07-01  4.850751e+14  8.711920e+10  1.735062e+16  4.758381e+12   \n",
       "2022-10-01  5.256032e+14  9.189495e+10  1.807255e+16  4.885998e+12   \n",
       "\n",
       "                TOB_lobb    TOB_stocks      UTI_lobb    UTI_stocks  \n",
       "time                                                                \n",
       "2021-07-01  2.524830e+14  1.776771e+11  4.914882e+14  2.971399e+10  \n",
       "2021-10-01  2.854341e+14  1.918980e+11  5.347352e+14  3.246989e+10  \n",
       "2022-01-01  3.144134e+14  2.033656e+11  5.779436e+14  3.342397e+10  \n",
       "2022-04-01  3.400364e+14  2.138294e+11  6.190230e+14  3.446631e+10  \n",
       "2022-07-01  3.629552e+14  2.235085e+11  6.583265e+14  3.549375e+10  \n",
       "2022-10-01  3.836976e+14  2.325565e+11  6.960461e+14  3.651310e+10  \n",
       "\n",
       "[6 rows x 36 columns]"
      ]
     },
     "execution_count": 35,
     "metadata": {},
     "output_type": "execute_result"
    }
   ],
   "source": [
    "VARIMA_preds"
   ]
  },
  {
   "cell_type": "code",
   "execution_count": null,
   "metadata": {},
   "outputs": [],
   "source": [
    "fig, axs = plt.subplots(6,3, sharex=True)\n",
    "fig.suptitle('VARIMA forecasts')\n",
    "for i, issue_code in enumerate(cognates.keys()):\n",
    "axs=axs.flatten()\n",
    "axs[i]"
   ]
  },
  {
   "cell_type": "markdown",
   "metadata": {},
   "source": [
    "#### XGBoost Model"
   ]
  },
  {
   "cell_type": "markdown",
   "metadata": {},
   "source": [
    "#### Neural Basis Expansion Analysis Time Series Forecasting (N-BEATS)"
   ]
  },
  {
   "cell_type": "markdown",
   "metadata": {},
   "source": [
    "#### Temporal fusion transformer (TFT)"
   ]
  }
 ],
 "metadata": {
  "kernelspec": {
   "display_name": "erdos_sp_2024",
   "language": "python",
   "name": "python3"
  },
  "language_info": {
   "codemirror_mode": {
    "name": "ipython",
    "version": 3
   },
   "file_extension": ".py",
   "mimetype": "text/x-python",
   "name": "python",
   "nbconvert_exporter": "python",
   "pygments_lexer": "ipython3",
   "version": "3.11.7"
  }
 },
 "nbformat": 4,
 "nbformat_minor": 2
}
